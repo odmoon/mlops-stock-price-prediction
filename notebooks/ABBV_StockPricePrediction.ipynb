{
 "cells": [
  {
   "cell_type": "markdown",
   "id": "2ef24c05",
   "metadata": {},
   "source": [
    "This script is designed to predict stock prices using a Long Short-Term Memory neural network. "
   ]
  },
  {
   "cell_type": "code",
   "execution_count": 13,
   "id": "91a3af6a",
   "metadata": {},
   "outputs": [],
   "source": [
    "import pandas as pd\n",
    "import numpy as np\n",
    "import matplotlib.pyplot as plt\n",
    "from sklearn.preprocessing import MinMaxScaler\n",
    "from sklearn.metrics import mean_squared_error\n",
    "from tensorflow.keras.models import Sequential\n",
    "from tensorflow.keras.layers import LSTM, Dense, Dropout, Input\n",
    "from tensorflow.keras.optimizers import Adam\n",
    "from tensorflow.keras.callbacks import EarlyStopping"
   ]
  },
  {
   "cell_type": "markdown",
   "id": "4dbbd531",
   "metadata": {},
   "source": [
    "Data is in the form of a CSV file"
   ]
  },
  {
   "cell_type": "code",
   "execution_count": 14,
   "id": "ed0217eb",
   "metadata": {},
   "outputs": [],
   "source": [
    "# Load the dataset\n",
    "data_path = '/Users/dylanneal/Documents/mlops-stock-price-prediction/notebooks/stock_data/ABBV.csv'\n",
    "abbv_data = pd.read_csv(data_path)"
   ]
  },
  {
   "cell_type": "markdown",
   "id": "cd6c3af0",
   "metadata": {},
   "source": [
    "The 'date' column is converted to datetime format adn set as the DataFrame index "
   ]
  },
  {
   "cell_type": "code",
   "execution_count": 15,
   "id": "6ad541e0",
   "metadata": {},
   "outputs": [],
   "source": [
    "# Convert the 'date' column to datetime format and set as index\n",
    "abbv_data['date'] = pd.to_datetime(abbv_data['date'])\n",
    "abbv_data.set_index('date', inplace=True)"
   ]
  },
  {
   "cell_type": "markdown",
   "id": "2f0a4383",
   "metadata": {},
   "source": [
    "Feature Selection for 'open, 'high', 'low', and 'close' prices for model input"
   ]
  },
  {
   "cell_type": "code",
   "execution_count": 16,
   "id": "dc4c1ea2",
   "metadata": {},
   "outputs": [],
   "source": [
    "# Select features to be used in the model\n",
    "features = abbv_data[['open', 'high', 'low', 'close']].values"
   ]
  },
  {
   "cell_type": "markdown",
   "id": "97f84f04",
   "metadata": {},
   "source": [
    "Feature scaling between 0 and 1 to improve neural network performance"
   ]
  },
  {
   "cell_type": "code",
   "execution_count": 17,
   "id": "f91783a6",
   "metadata": {},
   "outputs": [],
   "source": [
    "# Scale the features to be between 0 and 1\n",
    "scaler = MinMaxScaler(feature_range=(0, 1))\n",
    "data_scaled = scaler.fit_transform(features)"
   ]
  },
  {
   "cell_type": "markdown",
   "id": "3968ca83",
   "metadata": {},
   "source": [
    "Look back defines how many previous timesteps are used to predict the next time step"
   ]
  },
  {
   "cell_type": "code",
   "execution_count": 18,
   "id": "bab0f236",
   "metadata": {},
   "outputs": [],
   "source": [
    "# Define look_back period\n",
    "look_back = 60"
   ]
  },
  {
   "cell_type": "raw",
   "id": "5050d497",
   "metadata": {},
   "source": []
  },
  {
   "cell_type": "raw",
   "id": "be59354c",
   "metadata": {},
   "source": [
    "This function constructs input and output datasets for the LSTM. \n",
    "For each instance, it takes 'look_back' days of features as input and the next day's closing price as output"
   ]
  },
  {
   "cell_type": "code",
   "execution_count": 19,
   "id": "cdcb68f0",
   "metadata": {},
   "outputs": [],
   "source": [
    "# Function to create dataset with multiple features\n",
    "def create_dataset(dataset, look_back=60):\n",
    "    X, Y = [], []\n",
    "    for i in range(len(dataset) - look_back - 1):\n",
    "        a = dataset[i:(i + look_back), :]\n",
    "        X.append(a)\n",
    "        Y.append(dataset[i + look_back, -1])  # Target is still 'close' price\n",
    "    return np.array(X), np.array(Y)"
   ]
  },
  {
   "cell_type": "code",
   "execution_count": 20,
   "id": "7c30a676",
   "metadata": {},
   "outputs": [],
   "source": [
    "# Create dataset\n",
    "X, y = create_dataset(data_scaled)"
   ]
  },
  {
   "cell_type": "markdown",
   "id": "c2581bf3",
   "metadata": {},
   "source": [
    "The dataset is split into training and testing parts based on a percentage of 67% "
   ]
  },
  {
   "cell_type": "code",
   "execution_count": 21,
   "id": "6485f4b9",
   "metadata": {},
   "outputs": [],
   "source": [
    "# Splitting data into train and test sets\n",
    "train_size = int(len(X) * 0.67)\n",
    "test_size = len(X) - train_size\n",
    "trainX, testX = X[:train_size], X[train_size:]\n",
    "trainY, testY = y[:train_size], y[train_size:]"
   ]
  },
  {
   "cell_type": "markdown",
   "id": "1b97b5ab",
   "metadata": {},
   "source": [
    "Model Architecture: \n",
    "    The model consists of two LSTM layers interspersed with \n",
    "        Dropout layers to prevent overfitting, \n",
    "        and a Dense layer for output. \n",
    "The model is compiled with the mean squared error loss function and the adam optimizer. "
   ]
  },
  {
   "cell_type": "code",
   "execution_count": 22,
   "id": "e6918f58",
   "metadata": {},
   "outputs": [],
   "source": [
    "# Create and compile the LSTM model\n",
    "model = Sequential([\n",
    "    Input(shape=(trainX.shape[1], 4)),\n",
    "    LSTM(50, return_sequences=True),\n",
    "    Dropout(0.2),\n",
    "    LSTM(50),\n",
    "    Dropout(0.2),\n",
    "    Dense(1)\n",
    "])\n",
    "adam_optimizer = Adam(learning_rate=0.0001)\n",
    "model.compile(loss='mean_squared_error', optimizer=adam_optimizer)"
   ]
  },
  {
   "cell_type": "markdown",
   "id": "c3bdc0f6",
   "metadata": {},
   "source": [
    "Early Stopping is used to halt training when the validation loss hasn't improved for a specified number of epochs. \n",
    "This helps prevent overfitting. "
   ]
  },
  {
   "cell_type": "code",
   "execution_count": 23,
   "id": "1a0f7ece",
   "metadata": {},
   "outputs": [],
   "source": [
    "# Setup early stopping\n",
    "early_stopping = EarlyStopping(monitor='val_loss', patience=10, restore_best_weights=True)"
   ]
  },
  {
   "cell_type": "markdown",
   "id": "66b0b17c",
   "metadata": {},
   "source": [
    "LET'S TRAIN \n",
    "\n",
    "The model is trained using the training data with validation split to monitor performance during training."
   ]
  },
  {
   "cell_type": "code",
   "execution_count": 24,
   "id": "78c5d616",
   "metadata": {},
   "outputs": [
    {
     "name": "stdout",
     "output_type": "stream",
     "text": [
      "Epoch 1/100\n",
      "149/149 - 3s - 22ms/step - loss: 0.0037 - val_loss: 0.0011\n",
      "Epoch 2/100\n",
      "149/149 - 2s - 15ms/step - loss: 0.0014 - val_loss: 7.2984e-04\n",
      "Epoch 3/100\n",
      "149/149 - 2s - 15ms/step - loss: 0.0011 - val_loss: 6.7537e-04\n",
      "Epoch 4/100\n",
      "149/149 - 2s - 15ms/step - loss: 0.0012 - val_loss: 7.9762e-04\n",
      "Epoch 5/100\n",
      "149/149 - 2s - 15ms/step - loss: 9.8460e-04 - val_loss: 8.6991e-04\n",
      "Epoch 6/100\n",
      "149/149 - 2s - 15ms/step - loss: 0.0010 - val_loss: 7.9509e-04\n",
      "Epoch 7/100\n",
      "149/149 - 2s - 15ms/step - loss: 9.0496e-04 - val_loss: 5.9923e-04\n",
      "Epoch 8/100\n",
      "149/149 - 2s - 15ms/step - loss: 9.0879e-04 - val_loss: 5.9439e-04\n",
      "Epoch 9/100\n",
      "149/149 - 2s - 15ms/step - loss: 9.3265e-04 - val_loss: 7.0030e-04\n",
      "Epoch 10/100\n",
      "149/149 - 2s - 15ms/step - loss: 8.1523e-04 - val_loss: 6.3040e-04\n",
      "Epoch 11/100\n",
      "149/149 - 2s - 15ms/step - loss: 7.8729e-04 - val_loss: 7.7500e-04\n",
      "Epoch 12/100\n",
      "149/149 - 2s - 15ms/step - loss: 8.1397e-04 - val_loss: 5.3989e-04\n",
      "Epoch 13/100\n",
      "149/149 - 2s - 16ms/step - loss: 8.3855e-04 - val_loss: 8.4472e-04\n",
      "Epoch 14/100\n",
      "149/149 - 2s - 15ms/step - loss: 8.0238e-04 - val_loss: 7.5578e-04\n",
      "Epoch 15/100\n",
      "149/149 - 2s - 15ms/step - loss: 7.6517e-04 - val_loss: 5.9300e-04\n",
      "Epoch 16/100\n",
      "149/149 - 2s - 15ms/step - loss: 7.9696e-04 - val_loss: 4.9804e-04\n",
      "Epoch 17/100\n",
      "149/149 - 2s - 15ms/step - loss: 7.3164e-04 - val_loss: 4.8228e-04\n",
      "Epoch 18/100\n",
      "149/149 - 2s - 15ms/step - loss: 7.2595e-04 - val_loss: 4.8533e-04\n",
      "Epoch 19/100\n",
      "149/149 - 2s - 15ms/step - loss: 7.2829e-04 - val_loss: 5.9810e-04\n",
      "Epoch 20/100\n",
      "149/149 - 2s - 15ms/step - loss: 7.9695e-04 - val_loss: 4.6735e-04\n",
      "Epoch 21/100\n",
      "149/149 - 2s - 15ms/step - loss: 7.0702e-04 - val_loss: 5.4064e-04\n",
      "Epoch 22/100\n",
      "149/149 - 2s - 15ms/step - loss: 6.3887e-04 - val_loss: 4.5336e-04\n",
      "Epoch 23/100\n",
      "149/149 - 2s - 15ms/step - loss: 7.2153e-04 - val_loss: 4.4543e-04\n",
      "Epoch 24/100\n",
      "149/149 - 2s - 15ms/step - loss: 6.8895e-04 - val_loss: 5.6305e-04\n",
      "Epoch 25/100\n",
      "149/149 - 2s - 15ms/step - loss: 6.4939e-04 - val_loss: 5.0296e-04\n",
      "Epoch 26/100\n",
      "149/149 - 2s - 15ms/step - loss: 6.8225e-04 - val_loss: 5.3638e-04\n",
      "Epoch 27/100\n",
      "149/149 - 2s - 15ms/step - loss: 6.6846e-04 - val_loss: 4.7076e-04\n",
      "Epoch 28/100\n",
      "149/149 - 2s - 15ms/step - loss: 6.6395e-04 - val_loss: 4.1339e-04\n",
      "Epoch 29/100\n",
      "149/149 - 2s - 15ms/step - loss: 6.2863e-04 - val_loss: 4.1940e-04\n",
      "Epoch 30/100\n",
      "149/149 - 2s - 15ms/step - loss: 7.1024e-04 - val_loss: 4.0747e-04\n",
      "Epoch 31/100\n",
      "149/149 - 2s - 15ms/step - loss: 5.8913e-04 - val_loss: 4.2686e-04\n",
      "Epoch 32/100\n",
      "149/149 - 2s - 15ms/step - loss: 5.5199e-04 - val_loss: 3.9927e-04\n",
      "Epoch 33/100\n",
      "149/149 - 2s - 15ms/step - loss: 6.2012e-04 - val_loss: 3.9597e-04\n",
      "Epoch 34/100\n",
      "149/149 - 2s - 15ms/step - loss: 5.9048e-04 - val_loss: 5.3091e-04\n",
      "Epoch 35/100\n",
      "149/149 - 2s - 15ms/step - loss: 5.8985e-04 - val_loss: 5.4588e-04\n",
      "Epoch 36/100\n",
      "149/149 - 2s - 15ms/step - loss: 5.6847e-04 - val_loss: 3.8983e-04\n",
      "Epoch 37/100\n",
      "149/149 - 2s - 15ms/step - loss: 5.8235e-04 - val_loss: 3.7526e-04\n",
      "Epoch 38/100\n",
      "149/149 - 2s - 15ms/step - loss: 5.6263e-04 - val_loss: 3.8081e-04\n",
      "Epoch 39/100\n",
      "149/149 - 2s - 15ms/step - loss: 6.5078e-04 - val_loss: 3.6745e-04\n",
      "Epoch 40/100\n",
      "149/149 - 2s - 15ms/step - loss: 5.7275e-04 - val_loss: 5.4653e-04\n",
      "Epoch 41/100\n",
      "149/149 - 2s - 15ms/step - loss: 5.4300e-04 - val_loss: 3.6539e-04\n",
      "Epoch 42/100\n",
      "149/149 - 2s - 15ms/step - loss: 5.1204e-04 - val_loss: 4.2014e-04\n",
      "Epoch 43/100\n",
      "149/149 - 2s - 15ms/step - loss: 5.4037e-04 - val_loss: 4.8058e-04\n",
      "Epoch 44/100\n",
      "149/149 - 2s - 15ms/step - loss: 5.0636e-04 - val_loss: 3.7422e-04\n",
      "Epoch 45/100\n",
      "149/149 - 2s - 15ms/step - loss: 4.7552e-04 - val_loss: 3.8288e-04\n",
      "Epoch 46/100\n",
      "149/149 - 2s - 15ms/step - loss: 5.4546e-04 - val_loss: 4.9644e-04\n",
      "Epoch 47/100\n",
      "149/149 - 2s - 15ms/step - loss: 5.2704e-04 - val_loss: 3.5274e-04\n",
      "Epoch 48/100\n",
      "149/149 - 2s - 15ms/step - loss: 4.9870e-04 - val_loss: 3.5625e-04\n",
      "Epoch 49/100\n",
      "149/149 - 2s - 15ms/step - loss: 4.6905e-04 - val_loss: 4.2029e-04\n",
      "Epoch 50/100\n",
      "149/149 - 2s - 15ms/step - loss: 5.2767e-04 - val_loss: 3.5994e-04\n",
      "Epoch 51/100\n",
      "149/149 - 2s - 15ms/step - loss: 4.6817e-04 - val_loss: 3.5550e-04\n",
      "Epoch 52/100\n",
      "149/149 - 2s - 15ms/step - loss: 4.7422e-04 - val_loss: 3.3484e-04\n",
      "Epoch 53/100\n",
      "149/149 - 2s - 15ms/step - loss: 4.8198e-04 - val_loss: 3.4139e-04\n",
      "Epoch 54/100\n",
      "149/149 - 2s - 15ms/step - loss: 4.6138e-04 - val_loss: 3.3532e-04\n",
      "Epoch 55/100\n",
      "149/149 - 2s - 15ms/step - loss: 4.6437e-04 - val_loss: 3.6362e-04\n",
      "Epoch 56/100\n",
      "149/149 - 2s - 15ms/step - loss: 5.1630e-04 - val_loss: 3.2446e-04\n",
      "Epoch 57/100\n",
      "149/149 - 2s - 15ms/step - loss: 4.4547e-04 - val_loss: 4.2640e-04\n",
      "Epoch 58/100\n",
      "149/149 - 2s - 15ms/step - loss: 4.8758e-04 - val_loss: 3.6892e-04\n",
      "Epoch 59/100\n",
      "149/149 - 2s - 15ms/step - loss: 4.4513e-04 - val_loss: 3.3237e-04\n",
      "Epoch 60/100\n",
      "149/149 - 2s - 15ms/step - loss: 4.3806e-04 - val_loss: 6.4194e-04\n",
      "Epoch 61/100\n",
      "149/149 - 2s - 15ms/step - loss: 4.7355e-04 - val_loss: 3.2399e-04\n",
      "Epoch 62/100\n",
      "149/149 - 2s - 15ms/step - loss: 4.6147e-04 - val_loss: 3.2950e-04\n",
      "Epoch 63/100\n",
      "149/149 - 2s - 15ms/step - loss: 4.5509e-04 - val_loss: 3.2546e-04\n",
      "Epoch 64/100\n",
      "149/149 - 2s - 15ms/step - loss: 4.5050e-04 - val_loss: 3.7839e-04\n",
      "Epoch 65/100\n",
      "149/149 - 2s - 15ms/step - loss: 4.2181e-04 - val_loss: 3.5618e-04\n",
      "Epoch 66/100\n",
      "149/149 - 2s - 15ms/step - loss: 4.3037e-04 - val_loss: 3.0418e-04\n",
      "Epoch 67/100\n",
      "149/149 - 2s - 15ms/step - loss: 4.6239e-04 - val_loss: 3.8193e-04\n",
      "Epoch 68/100\n",
      "149/149 - 2s - 15ms/step - loss: 4.3127e-04 - val_loss: 3.9938e-04\n",
      "Epoch 69/100\n",
      "149/149 - 2s - 15ms/step - loss: 4.2455e-04 - val_loss: 2.9760e-04\n",
      "Epoch 70/100\n",
      "149/149 - 2s - 16ms/step - loss: 4.0536e-04 - val_loss: 3.0085e-04\n",
      "Epoch 71/100\n",
      "149/149 - 2s - 15ms/step - loss: 3.7954e-04 - val_loss: 2.9596e-04\n",
      "Epoch 72/100\n",
      "149/149 - 2s - 15ms/step - loss: 4.1683e-04 - val_loss: 2.9255e-04\n",
      "Epoch 73/100\n",
      "149/149 - 2s - 15ms/step - loss: 4.1435e-04 - val_loss: 4.7799e-04\n",
      "Epoch 74/100\n",
      "149/149 - 2s - 15ms/step - loss: 4.0445e-04 - val_loss: 2.9580e-04\n",
      "Epoch 75/100\n",
      "149/149 - 2s - 15ms/step - loss: 3.9414e-04 - val_loss: 3.6724e-04\n",
      "Epoch 76/100\n",
      "149/149 - 2s - 15ms/step - loss: 3.8772e-04 - val_loss: 3.0237e-04\n",
      "Epoch 77/100\n",
      "149/149 - 2s - 15ms/step - loss: 3.7625e-04 - val_loss: 2.8288e-04\n",
      "Epoch 78/100\n",
      "149/149 - 2s - 15ms/step - loss: 3.8572e-04 - val_loss: 2.8681e-04\n",
      "Epoch 79/100\n",
      "149/149 - 2s - 15ms/step - loss: 3.6395e-04 - val_loss: 2.9973e-04\n",
      "Epoch 80/100\n",
      "149/149 - 2s - 15ms/step - loss: 3.8704e-04 - val_loss: 2.8278e-04\n",
      "Epoch 81/100\n",
      "149/149 - 2s - 15ms/step - loss: 3.7201e-04 - val_loss: 2.9297e-04\n",
      "Epoch 82/100\n",
      "149/149 - 2s - 15ms/step - loss: 3.9888e-04 - val_loss: 3.2878e-04\n",
      "Epoch 83/100\n",
      "149/149 - 2s - 15ms/step - loss: 3.7566e-04 - val_loss: 2.9555e-04\n",
      "Epoch 84/100\n",
      "149/149 - 2s - 15ms/step - loss: 3.3361e-04 - val_loss: 2.7653e-04\n",
      "Epoch 85/100\n",
      "149/149 - 2s - 15ms/step - loss: 4.0639e-04 - val_loss: 2.8388e-04\n",
      "Epoch 86/100\n",
      "149/149 - 2s - 15ms/step - loss: 3.4949e-04 - val_loss: 2.7290e-04\n",
      "Epoch 87/100\n",
      "149/149 - 2s - 15ms/step - loss: 3.6715e-04 - val_loss: 2.6972e-04\n",
      "Epoch 88/100\n",
      "149/149 - 2s - 15ms/step - loss: 3.5407e-04 - val_loss: 2.7578e-04\n",
      "Epoch 89/100\n",
      "149/149 - 2s - 15ms/step - loss: 3.6492e-04 - val_loss: 2.8932e-04\n",
      "Epoch 90/100\n",
      "149/149 - 2s - 15ms/step - loss: 3.4259e-04 - val_loss: 2.6995e-04\n",
      "Epoch 91/100\n",
      "149/149 - 2s - 15ms/step - loss: 3.8819e-04 - val_loss: 3.1974e-04\n",
      "Epoch 92/100\n",
      "149/149 - 2s - 15ms/step - loss: 3.1008e-04 - val_loss: 2.6265e-04\n",
      "Epoch 93/100\n",
      "149/149 - 2s - 15ms/step - loss: 3.1945e-04 - val_loss: 2.7667e-04\n",
      "Epoch 94/100\n",
      "149/149 - 2s - 15ms/step - loss: 3.5673e-04 - val_loss: 2.7960e-04\n",
      "Epoch 95/100\n",
      "149/149 - 2s - 15ms/step - loss: 3.5469e-04 - val_loss: 2.8261e-04\n",
      "Epoch 96/100\n",
      "149/149 - 2s - 15ms/step - loss: 3.1462e-04 - val_loss: 2.7998e-04\n",
      "Epoch 97/100\n",
      "149/149 - 2s - 15ms/step - loss: 3.2569e-04 - val_loss: 2.5096e-04\n",
      "Epoch 98/100\n",
      "149/149 - 2s - 15ms/step - loss: 3.4258e-04 - val_loss: 2.7804e-04\n",
      "Epoch 99/100\n",
      "149/149 - 2s - 15ms/step - loss: 3.2429e-04 - val_loss: 2.9673e-04\n",
      "Epoch 100/100\n",
      "149/149 - 2s - 15ms/step - loss: 3.2922e-04 - val_loss: 2.5160e-04\n"
     ]
    }
   ],
   "source": [
    "# Fit the model\n",
    "history = model.fit(trainX, trainY, validation_split=0.2, epochs=100, batch_size=10, verbose=2, callbacks=[early_stopping])"
   ]
  },
  {
   "cell_type": "markdown",
   "id": "ff4be4cd",
   "metadata": {},
   "source": [
    "Predictions are made for both training and testing datasets"
   ]
  },
  {
   "cell_type": "code",
   "execution_count": 25,
   "id": "fc5e0209",
   "metadata": {},
   "outputs": [
    {
     "name": "stdout",
     "output_type": "stream",
     "text": [
      "\u001b[1m59/59\u001b[0m \u001b[32m━━━━━━━━━━━━━━━━━━━━\u001b[0m\u001b[37m\u001b[0m \u001b[1m1s\u001b[0m 8ms/step\n",
      "\u001b[1m29/29\u001b[0m \u001b[32m━━━━━━━━━━━━━━━━━━━━\u001b[0m\u001b[37m\u001b[0m \u001b[1m0s\u001b[0m 6ms/step\n"
     ]
    }
   ],
   "source": [
    "# Making predictions\n",
    "trainPredict = model.predict(trainX)\n",
    "testPredict = model.predict(testX)"
   ]
  },
  {
   "cell_type": "markdown",
   "id": "fb54e623",
   "metadata": {},
   "source": [
    "Since the output was scaled, the predictions are rescaled back to the original scale to interpret them in the context of actual stock prices. "
   ]
  },
  {
   "cell_type": "code",
   "execution_count": null,
   "id": "223ea69b",
   "metadata": {},
   "outputs": [],
   "source": [
    "# Inverting predictions to revert back to the original scale\n",
    "trainPredict = scaler.inverse_transform(np.c_[trainPredict, np.zeros((len(trainPredict), 3))])[:, 0]\n",
    "testPredict = scaler.inverse_transform(np.c_[testPredict, np.zeros((len(testPredict), 3))])[:, 0]\n",
    "trainY_original = scaler.inverse_transform(np.c_[trainY, np.zeros((len(trainY), 3))])[:, 0]\n",
    "testY_original = scaler.inverse_transform(np.c_[testY, np.zeros((len(testY), 3))])[:, 0]\n"
   ]
  },
  {
   "cell_type": "markdown",
   "id": "1707b32b",
   "metadata": {},
   "source": [
    "The root Mean Squared Error (RMSE) is calculated for both trainig and testing predictions to evaluate the performance of the model. "
   ]
  },
  {
   "cell_type": "code",
   "execution_count": null,
   "id": "90f27c7a",
   "metadata": {},
   "outputs": [],
   "source": [
    "# Calculate root mean squared error\n",
    "trainScore = np.sqrt(mean_squared_error(trainY_original, trainPredict))\n",
    "testScore = np.sqrt(mean_squared_error(testY_original, testPredict))\n",
    "print('Train Score: %.2f RMSE' % trainScore)\n",
    "print('Test Score: %.2f RMSE' % testScore)"
   ]
  },
  {
   "cell_type": "code",
   "execution_count": null,
   "id": "a3259ad0",
   "metadata": {},
   "outputs": [],
   "source": [
    "# Extract date index for plotting\n",
    "dates = abbv_data.index[look_back+1:look_back+1+len(trainY_original)+len(testY_original)]"
   ]
  },
  {
   "cell_type": "markdown",
   "id": "9757c928",
   "metadata": {},
   "source": [
    "The original and predicted prices are plotted against time for both training and test datasets. "
   ]
  },
  {
   "cell_type": "code",
   "execution_count": null,
   "id": "7b36b7b2",
   "metadata": {},
   "outputs": [],
   "source": [
    "# Plotting baseline and predictions\n",
    "plt.figure(figsize=(12, 6))\n",
    "plt.plot(dates[:len(trainY_original)], trainY_original, label='Original Train')\n",
    "plt.plot(dates[:len(trainY_original)], trainPredict, label='Predicted Train')\n",
    "plt.plot(dates[len(trainY_original):], testY_original, label='Original Test')\n",
    "plt.plot(dates[len(trainY_original):], testPredict, label='Predicted Test')\n",
    "plt.title('Stock Price Prediction')\n",
    "plt.xlabel('Time (Year)')\n",
    "plt.ylabel('Stock Price')\n",
    "plt.legend()\n",
    "plt.xticks(rotation=45)  # Rotate date labels for better visibility\n",
    "plt.show()"
   ]
  },
  {
   "cell_type": "code",
   "execution_count": null,
   "id": "9dea6ab3",
   "metadata": {},
   "outputs": [],
   "source": [
    "def predict_next_month(model, last_data, scaler, look_back=60, days_in_future=30):\n",
    "    input_data = last_data[-look_back:].reshape(1, look_back, 4)\n",
    "    future_predictions = []\n",
    "\n",
    "    for _ in range(days_in_future):\n",
    "        prediction = model.predict(input_data)\n",
    "        future_predictions.append(prediction[0,0])\n",
    "        new_day = np.append(input_data[0, -1, 1:], prediction).reshape(1, 4)\n",
    "        input_data = np.append(input_data[:, 1:, :], [new_day], axis=1)\n",
    "\n",
    "    future_predictions = np.array(future_predictions).reshape(-1, 1)\n",
    "    future_predictions = scaler.inverse_transform(np.c_[future_predictions, np.zeros((len(future_predictions), 3))])[:, 0]\n",
    "\n",
    "    return future_predictions\n",
    "\n",
    "# Last 'look_back' days data for input\n",
    "last_look_back_data = data_scaled[-look_back:]\n",
    "\n",
    "# Predict the next month\n",
    "next_month_predictions = predict_next_month(model, last_look_back_data, scaler, look_back, 30)\n",
    "\n",
    "# Dates for plotting\n",
    "dates = pd.date_range(start=abbv_data.index[-1], periods=31, freq='D')[1:]  # starts the day after the last date in the dataset\n",
    "\n",
    "# Plotting the predictions\n",
    "plt.figure(figsize=(12, 6))\n",
    "plt.plot(dates, next_month_predictions, label='Predicted Stock Prices', marker='o')\n",
    "plt.title('Future Stock Price Prediction for the Next 30 Days')\n",
    "plt.xlabel('Date')\n",
    "plt.ylabel('Stock Price')\n",
    "plt.xticks(rotation=45)\n",
    "plt.legend()\n",
    "plt.grid(True)\n",
    "plt.show()\n"
   ]
  },
  {
   "cell_type": "code",
   "execution_count": null,
   "id": "e585b587",
   "metadata": {},
   "outputs": [],
   "source": []
  },
  {
   "cell_type": "code",
   "execution_count": null,
   "id": "4438cddd",
   "metadata": {},
   "outputs": [],
   "source": []
  }
 ],
 "metadata": {
  "kernelspec": {
   "display_name": "Python 3 (ipykernel)",
   "language": "python",
   "name": "python3"
  },
  "language_info": {
   "codemirror_mode": {
    "name": "ipython",
    "version": 3
   },
   "file_extension": ".py",
   "mimetype": "text/x-python",
   "name": "python",
   "nbconvert_exporter": "python",
   "pygments_lexer": "ipython3",
   "version": "3.10.9"
  }
 },
 "nbformat": 4,
 "nbformat_minor": 5
}
